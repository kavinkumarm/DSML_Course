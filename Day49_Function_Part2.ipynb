{
  "cells": [
    {
      "cell_type": "markdown",
      "metadata": {
        "id": "view-in-github",
        "colab_type": "text"
      },
      "source": [
        "<a href=\"https://colab.research.google.com/github/kavinkumarm/DSML_Course/blob/Module-5-Python-Intermediate/Day49_Function_Part2.ipynb\" target=\"_parent\"><img src=\"https://colab.research.google.com/assets/colab-badge.svg\" alt=\"Open In Colab\"/></a>"
      ]
    },
    {
      "cell_type": "markdown",
      "metadata": {
        "id": "nt1PEyi5igWB"
      },
      "source": [
        "**Overview of positional Arguments**"
      ]
    },
    {
      "cell_type": "code",
      "execution_count": null,
      "metadata": {
        "id": "ht3Wu423h6fm"
      },
      "outputs": [],
      "source": [
        "def car_specs(color,brand,price):\n",
        "  print(\"Color:\",color)\n",
        "  print(\"Brand:\",brand)\n",
        "  print(\"Price:\",price)"
      ]
    },
    {
      "cell_type": "code",
      "execution_count": null,
      "metadata": {
        "colab": {
          "base_uri": "https://localhost:8080/"
        },
        "id": "WKJwO4NdkmwG",
        "outputId": "d8161930-6ffa-43ba-95a1-9c9392115b7b"
      },
      "outputs": [
        {
          "name": "stdout",
          "output_type": "stream",
          "text": [
            "Color: Red\n",
            "Brand: BMW\n",
            "Price: 1000000\n"
          ]
        }
      ],
      "source": [
        "car_specs(\"Red\",\"BMW\",1000000) #Positinal Argument --> Ordering is important\n",
        "# Red is mapped to color\n",
        "# BMW is mapped to brand\n",
        "# 1000000 is mapped to price"
      ]
    },
    {
      "cell_type": "code",
      "execution_count": null,
      "metadata": {
        "colab": {
          "base_uri": "https://localhost:8080/"
        },
        "id": "Apw0Cueekz15",
        "outputId": "801234ad-cc64-4fe7-9595-3718a878d5de"
      },
      "outputs": [
        {
          "name": "stdout",
          "output_type": "stream",
          "text": [
            "Color: Red\n",
            "Brand: 1000000\n",
            "Price: BMW\n"
          ]
        }
      ],
      "source": [
        "car_specs(\"Red\",1000000,\"BMW\") #Oder changed but bot able to predicted by function"
      ]
    },
    {
      "cell_type": "code",
      "execution_count": null,
      "metadata": {
        "colab": {
          "base_uri": "https://localhost:8080/",
          "height": 175
        },
        "id": "_nTBBDl3k_Qd",
        "outputId": "777ce59a-e708-4ce8-9997-40f53982224f"
      },
      "outputs": [
        {
          "ename": "TypeError",
          "evalue": "car_specs() missing 1 required positional argument: 'price'",
          "output_type": "error",
          "traceback": [
            "\u001b[0;31m---------------------------------------------------------------------------\u001b[0m",
            "\u001b[0;31mTypeError\u001b[0m                                 Traceback (most recent call last)",
            "\u001b[0;32m<ipython-input-4-4945e04ba732>\u001b[0m in \u001b[0;36m<cell line: 1>\u001b[0;34m()\u001b[0m\n\u001b[0;32m----> 1\u001b[0;31m \u001b[0mcar_specs\u001b[0m\u001b[0;34m(\u001b[0m\u001b[0;34m\"Red\"\u001b[0m\u001b[0;34m,\u001b[0m\u001b[0;34m\"BMW\"\u001b[0m\u001b[0;34m)\u001b[0m\u001b[0;34m\u001b[0m\u001b[0;34m\u001b[0m\u001b[0m\n\u001b[0m",
            "\u001b[0;31mTypeError\u001b[0m: car_specs() missing 1 required positional argument: 'price'"
          ]
        }
      ],
      "source": [
        "car_specs(\"Red\",\"BMW\") #One argument is missing"
      ]
    },
    {
      "cell_type": "code",
      "execution_count": null,
      "metadata": {
        "colab": {
          "base_uri": "https://localhost:8080/",
          "height": 175
        },
        "id": "FIL8EhYMlJLn",
        "outputId": "f9638a4b-1595-49ea-eff8-2423d097e0d1"
      },
      "outputs": [
        {
          "ename": "TypeError",
          "evalue": "car_specs() takes 3 positional arguments but 4 were given",
          "output_type": "error",
          "traceback": [
            "\u001b[0;31m---------------------------------------------------------------------------\u001b[0m",
            "\u001b[0;31mTypeError\u001b[0m                                 Traceback (most recent call last)",
            "\u001b[0;32m<ipython-input-5-d9d68e1be046>\u001b[0m in \u001b[0;36m<cell line: 1>\u001b[0;34m()\u001b[0m\n\u001b[0;32m----> 1\u001b[0;31m \u001b[0mcar_specs\u001b[0m\u001b[0;34m(\u001b[0m\u001b[0;34m\"Red\"\u001b[0m\u001b[0;34m,\u001b[0m\u001b[0;34m\"BMW\"\u001b[0m\u001b[0;34m,\u001b[0m\u001b[0;36m1000000\u001b[0m\u001b[0;34m,\u001b[0m\u001b[0;36m1\u001b[0m\u001b[0;34m)\u001b[0m \u001b[0;31m#One argument is extra\u001b[0m\u001b[0;34m\u001b[0m\u001b[0;34m\u001b[0m\u001b[0m\n\u001b[0m",
            "\u001b[0;31mTypeError\u001b[0m: car_specs() takes 3 positional arguments but 4 were given"
          ]
        }
      ],
      "source": [
        "car_specs(\"Red\",\"BMW\",1000000,1) #One argument is extra"
      ]
    },
    {
      "cell_type": "markdown",
      "metadata": {
        "id": "nlXjWdQVlSs7"
      },
      "source": [
        "**Key-worded Argument**"
      ]
    },
    {
      "cell_type": "markdown",
      "metadata": {
        "id": "VLpBB25olaZW"
      },
      "source": [
        "Key-worded argument solved the problem of ordering"
      ]
    },
    {
      "cell_type": "code",
      "execution_count": null,
      "metadata": {
        "id": "BRU2NofklQhe"
      },
      "outputs": [],
      "source": [
        "def car_specs(color,brand,price):\n",
        "  print(\"Color:\",color)\n",
        "  print(\"Brand:\",brand)\n",
        "  print(\"Price:\",price)"
      ]
    },
    {
      "cell_type": "markdown",
      "metadata": {
        "id": "lWBl9j9xmVRc"
      },
      "source": [
        "Rule 1 : Parameter name must match with function calling argument names"
      ]
    },
    {
      "cell_type": "code",
      "execution_count": null,
      "metadata": {
        "colab": {
          "base_uri": "https://localhost:8080/"
        },
        "id": "CCjC5_ZHmd_Q",
        "outputId": "fa7f8407-2ee7-45ae-b08d-1fff6f37860d"
      },
      "outputs": [
        {
          "name": "stdout",
          "output_type": "stream",
          "text": [
            "Color: Red\n",
            "Brand: BMW\n",
            "Price: 1000000\n"
          ]
        }
      ],
      "source": [
        "car_specs(color=\"Red\",brand=\"BMW\",price=1000000)"
      ]
    },
    {
      "cell_type": "markdown",
      "metadata": {
        "id": "eZ57nhQUm23Y"
      },
      "source": [
        "Rule 2 : passing the in the same order is not madatory"
      ]
    },
    {
      "cell_type": "code",
      "execution_count": null,
      "metadata": {
        "colab": {
          "base_uri": "https://localhost:8080/"
        },
        "id": "3Ng7fNrhmwS4",
        "outputId": "a0386116-14f2-4eb6-8253-f7a7eb212f7b"
      },
      "outputs": [
        {
          "name": "stdout",
          "output_type": "stream",
          "text": [
            "Color: Red\n",
            "Brand: BMW\n",
            "Price: 1000000\n"
          ]
        }
      ],
      "source": [
        "car_specs(color=\"Red\",price=1000000,brand=\"BMW\")"
      ]
    },
    {
      "cell_type": "markdown",
      "metadata": {
        "id": "xZEURW9YnBAi"
      },
      "source": [
        "Advantage = Practically its not possible to remember the order of the arguments.\n",
        "\n",
        "In numpy and pandas it has good advantages"
      ]
    },
    {
      "cell_type": "code",
      "execution_count": null,
      "metadata": {
        "colab": {
          "base_uri": "https://localhost:8080/",
          "height": 140
        },
        "id": "60qeQoKvm_v2",
        "outputId": "c6848b23-d282-41d7-808b-eaf7dfaceb67"
      },
      "outputs": [
        {
          "ename": "SyntaxError",
          "evalue": "invalid syntax (<ipython-input-9-30f38bdde48c>, line 2)",
          "output_type": "error",
          "traceback": [
            "\u001b[0;36m  File \u001b[0;32m\"<ipython-input-9-30f38bdde48c>\"\u001b[0;36m, line \u001b[0;32m2\u001b[0m\n\u001b[0;31m    function random():\u001b[0m\n\u001b[0m             ^\u001b[0m\n\u001b[0;31mSyntaxError\u001b[0m\u001b[0;31m:\u001b[0m invalid syntax\n"
          ]
        }
      ],
      "source": [
        "#Quiz1\n",
        "function random():\n",
        "    return True\n",
        "random()"
      ]
    },
    {
      "cell_type": "code",
      "execution_count": null,
      "metadata": {
        "colab": {
          "base_uri": "https://localhost:8080/"
        },
        "id": "aNAGQZTio8MI",
        "outputId": "14d69646-fb57-4ea1-9f79-819a5bba8ffc"
      },
      "outputs": [
        {
          "data": {
            "text/plain": [
              "True"
            ]
          },
          "execution_count": 10,
          "metadata": {},
          "output_type": "execute_result"
        }
      ],
      "source": [
        "#Quiz1\n",
        "def random():\n",
        "    return True\n",
        "random()"
      ]
    },
    {
      "cell_type": "code",
      "execution_count": null,
      "metadata": {
        "colab": {
          "base_uri": "https://localhost:8080/",
          "height": 140
        },
        "id": "XWtBO2gApMYU",
        "outputId": "24ee8ce2-4026-4d60-8478-0ea1d6297eab"
      },
      "outputs": [
        {
          "ename": "SyntaxError",
          "evalue": "invalid syntax (<ipython-input-11-9838d27b0b51>, line 2)",
          "output_type": "error",
          "traceback": [
            "\u001b[0;36m  File \u001b[0;32m\"<ipython-input-11-9838d27b0b51>\"\u001b[0;36m, line \u001b[0;32m2\u001b[0m\n\u001b[0;31m    def abc:\u001b[0m\n\u001b[0m           ^\u001b[0m\n\u001b[0;31mSyntaxError\u001b[0m\u001b[0;31m:\u001b[0m invalid syntax\n"
          ]
        }
      ],
      "source": [
        "#Quiz 2\n",
        "def abc:\n",
        "    return \"I am a function!\"\n",
        "abc()"
      ]
    },
    {
      "cell_type": "code",
      "execution_count": null,
      "metadata": {
        "colab": {
          "base_uri": "https://localhost:8080/",
          "height": 35
        },
        "id": "G1SUb_e8pPox",
        "outputId": "c3b6ed67-f4dc-4238-f242-d8408fba7dc2"
      },
      "outputs": [
        {
          "data": {
            "application/vnd.google.colaboratory.intrinsic+json": {
              "type": "string"
            },
            "text/plain": [
              "'I am a function!'"
            ]
          },
          "execution_count": 12,
          "metadata": {},
          "output_type": "execute_result"
        }
      ],
      "source": [
        "def abc():\n",
        "    return \"I am a function!\"\n",
        "\n",
        "abc()"
      ]
    },
    {
      "cell_type": "code",
      "execution_count": null,
      "metadata": {
        "id": "zKDTtdxfpUZP"
      },
      "outputs": [],
      "source": [
        "#Revision\n",
        "\n",
        "def solve(a, b, c, d):\n",
        "  print(\"a is\", a)\n",
        "  print(\"b is\", b)\n",
        "  print(\"c is\", c)\n",
        "  print(\"d is\", d)"
      ]
    },
    {
      "cell_type": "code",
      "execution_count": null,
      "metadata": {
        "colab": {
          "base_uri": "https://localhost:8080/"
        },
        "id": "WJFi0csQpXt2",
        "outputId": "a50b18c1-5c19-4d07-cec7-e929ab4e5e40"
      },
      "outputs": [
        {
          "name": "stdout",
          "output_type": "stream",
          "text": [
            "a is 1\n",
            "b is 4\n",
            "c is 3\n",
            "d is 6\n"
          ]
        }
      ],
      "source": [
        "solve(1,4,3,6)"
      ]
    },
    {
      "cell_type": "code",
      "execution_count": null,
      "metadata": {
        "colab": {
          "base_uri": "https://localhost:8080/",
          "height": 175
        },
        "id": "d0lDONZSpb4r",
        "outputId": "56a5356a-a3bb-4d63-8b9c-73e2a4c350f0"
      },
      "outputs": [
        {
          "ename": "TypeError",
          "evalue": "solve() takes 4 positional arguments but 5 were given",
          "output_type": "error",
          "traceback": [
            "\u001b[0;31m---------------------------------------------------------------------------\u001b[0m",
            "\u001b[0;31mTypeError\u001b[0m                                 Traceback (most recent call last)",
            "\u001b[0;32m<ipython-input-15-6b4fc3048a64>\u001b[0m in \u001b[0;36m<cell line: 1>\u001b[0;34m()\u001b[0m\n\u001b[0;32m----> 1\u001b[0;31m \u001b[0msolve\u001b[0m\u001b[0;34m(\u001b[0m\u001b[0;36m1\u001b[0m\u001b[0;34m,\u001b[0m\u001b[0;36m4\u001b[0m\u001b[0;34m,\u001b[0m\u001b[0;36m3\u001b[0m\u001b[0;34m,\u001b[0m\u001b[0;36m6\u001b[0m\u001b[0;34m,\u001b[0m\u001b[0;36m8\u001b[0m\u001b[0;34m)\u001b[0m\u001b[0;34m\u001b[0m\u001b[0;34m\u001b[0m\u001b[0m\n\u001b[0m",
            "\u001b[0;31mTypeError\u001b[0m: solve() takes 4 positional arguments but 5 were given"
          ]
        }
      ],
      "source": [
        "solve(1,4,3,6,8)"
      ]
    },
    {
      "cell_type": "code",
      "execution_count": null,
      "metadata": {
        "colab": {
          "base_uri": "https://localhost:8080/",
          "height": 175
        },
        "id": "VgG6bEC7pfMP",
        "outputId": "87586fd7-ffd8-4f6b-f6ab-c5a9be0e0de4"
      },
      "outputs": [
        {
          "ename": "TypeError",
          "evalue": "solve() missing 1 required positional argument: 'd'",
          "output_type": "error",
          "traceback": [
            "\u001b[0;31m---------------------------------------------------------------------------\u001b[0m",
            "\u001b[0;31mTypeError\u001b[0m                                 Traceback (most recent call last)",
            "\u001b[0;32m<ipython-input-16-2d5baa891cd3>\u001b[0m in \u001b[0;36m<cell line: 1>\u001b[0;34m()\u001b[0m\n\u001b[0;32m----> 1\u001b[0;31m \u001b[0msolve\u001b[0m\u001b[0;34m(\u001b[0m\u001b[0;36m1\u001b[0m\u001b[0;34m,\u001b[0m\u001b[0;36m3\u001b[0m\u001b[0;34m,\u001b[0m\u001b[0;36m4\u001b[0m\u001b[0;34m)\u001b[0m\u001b[0;34m\u001b[0m\u001b[0;34m\u001b[0m\u001b[0m\n\u001b[0m",
            "\u001b[0;31mTypeError\u001b[0m: solve() missing 1 required positional argument: 'd'"
          ]
        }
      ],
      "source": [
        "solve(1,3,4)"
      ]
    },
    {
      "cell_type": "code",
      "execution_count": null,
      "metadata": {
        "id": "emhl8W-tptNq"
      },
      "outputs": [],
      "source": [
        "#Key worded argument\n",
        "def solve(a, b, c, d):\n",
        "  print(\"a is\", a)\n",
        "  print(\"b is\", b)\n",
        "  print(\"c is\", c)\n",
        "  print(\"d is\", d)"
      ]
    },
    {
      "cell_type": "code",
      "execution_count": null,
      "metadata": {
        "colab": {
          "base_uri": "https://localhost:8080/"
        },
        "id": "IW_t6f69p1qr",
        "outputId": "cdce5c6e-d553-4480-ed1a-372b4530cdc0"
      },
      "outputs": [
        {
          "name": "stdout",
          "output_type": "stream",
          "text": [
            "a is 1\n",
            "b is 4\n",
            "c is 3\n",
            "d is 6\n"
          ]
        }
      ],
      "source": [
        "solve(b=4,a=1,c=3,d=6)"
      ]
    },
    {
      "cell_type": "code",
      "execution_count": null,
      "metadata": {
        "id": "LD7S7AQup_ip"
      },
      "outputs": [],
      "source": [
        "#Edge cases of Keyworded arguments - Understand the errors"
      ]
    },
    {
      "cell_type": "code",
      "execution_count": null,
      "metadata": {
        "colab": {
          "base_uri": "https://localhost:8080/",
          "height": 140
        },
        "id": "ETdWnD-mqEXN",
        "outputId": "566d530b-9055-41a5-d896-b7492a25eabb"
      },
      "outputs": [
        {
          "ename": "SyntaxError",
          "evalue": "keyword argument repeated: a (<ipython-input-20-c2ab431ac6e6>, line 1)",
          "output_type": "error",
          "traceback": [
            "\u001b[0;36m  File \u001b[0;32m\"<ipython-input-20-c2ab431ac6e6>\"\u001b[0;36m, line \u001b[0;32m1\u001b[0m\n\u001b[0;31m    solve(b = 2, a = 1 , a = 5 , c =4)\u001b[0m\n\u001b[0m                         ^\u001b[0m\n\u001b[0;31mSyntaxError\u001b[0m\u001b[0;31m:\u001b[0m keyword argument repeated: a\n"
          ]
        }
      ],
      "source": [
        "solve(b = 2, a = 1 , a = 5 , c =4)"
      ]
    },
    {
      "cell_type": "code",
      "execution_count": null,
      "metadata": {
        "colab": {
          "base_uri": "https://localhost:8080/",
          "height": 175
        },
        "id": "a93BciJUqQZx",
        "outputId": "25dad97f-7561-44f9-b3aa-553a7e6df473"
      },
      "outputs": [
        {
          "ename": "TypeError",
          "evalue": "solve() got an unexpected keyword argument 'aj'",
          "output_type": "error",
          "traceback": [
            "\u001b[0;31m---------------------------------------------------------------------------\u001b[0m",
            "\u001b[0;31mTypeError\u001b[0m                                 Traceback (most recent call last)",
            "\u001b[0;32m<ipython-input-21-bf1d663699b2>\u001b[0m in \u001b[0;36m<cell line: 1>\u001b[0;34m()\u001b[0m\n\u001b[0;32m----> 1\u001b[0;31m \u001b[0msolve\u001b[0m\u001b[0;34m(\u001b[0m\u001b[0mb\u001b[0m \u001b[0;34m=\u001b[0m \u001b[0;36m2\u001b[0m\u001b[0;34m,\u001b[0m \u001b[0maj\u001b[0m \u001b[0;34m=\u001b[0m \u001b[0;36m1\u001b[0m \u001b[0;34m,\u001b[0m \u001b[0ma\u001b[0m \u001b[0;34m=\u001b[0m \u001b[0;36m5\u001b[0m \u001b[0;34m,\u001b[0m \u001b[0mc\u001b[0m \u001b[0;34m=\u001b[0m\u001b[0;36m4\u001b[0m\u001b[0;34m)\u001b[0m\u001b[0;34m\u001b[0m\u001b[0;34m\u001b[0m\u001b[0m\n\u001b[0m",
            "\u001b[0;31mTypeError\u001b[0m: solve() got an unexpected keyword argument 'aj'"
          ]
        }
      ],
      "source": [
        "solve(b = 2, aj = 1 , a = 5 , c =4)"
      ]
    },
    {
      "cell_type": "markdown",
      "metadata": {
        "id": "C7j6if6FqdgG"
      },
      "source": [
        "Mixture - combination of arguments keyworded and positinal arguments"
      ]
    },
    {
      "cell_type": "code",
      "execution_count": null,
      "metadata": {
        "id": "_fAV7gdFqUtK"
      },
      "outputs": [],
      "source": [
        "def solve(a, b, c, d):\n",
        "  print(\"a is\", a)\n",
        "  print(\"b is\", b)\n",
        "  print(\"c is\", c)\n",
        "  print(\"d is\", d)"
      ]
    },
    {
      "cell_type": "code",
      "execution_count": null,
      "metadata": {
        "colab": {
          "base_uri": "https://localhost:8080/"
        },
        "id": "Z6jnYfF3qsUp",
        "outputId": "d1bb4c62-b6cc-4d68-bc0a-620e881f72ca"
      },
      "outputs": [
        {
          "name": "stdout",
          "output_type": "stream",
          "text": [
            "a is 1\n",
            "b is 2\n",
            "c is 3\n",
            "d is 5\n"
          ]
        }
      ],
      "source": [
        "solve(1,c=3,d=5,b=2)"
      ]
    },
    {
      "cell_type": "code",
      "execution_count": null,
      "metadata": {
        "colab": {
          "base_uri": "https://localhost:8080/",
          "height": 140
        },
        "id": "PuX8BcqSqx2E",
        "outputId": "e5ec2926-c1a4-466b-e5c4-62ec02977b17"
      },
      "outputs": [
        {
          "ename": "SyntaxError",
          "evalue": "positional argument follows keyword argument (<ipython-input-25-4ddb16aa6de1>, line 1)",
          "output_type": "error",
          "traceback": [
            "\u001b[0;36m  File \u001b[0;32m\"<ipython-input-25-4ddb16aa6de1>\"\u001b[0;36m, line \u001b[0;32m1\u001b[0m\n\u001b[0;31m    solve(1,c=3,d=5,8)\u001b[0m\n\u001b[0m                     ^\u001b[0m\n\u001b[0;31mSyntaxError\u001b[0m\u001b[0;31m:\u001b[0m positional argument follows keyword argument\n"
          ]
        }
      ],
      "source": [
        "solve(1,c=3,d=5,8)"
      ]
    },
    {
      "cell_type": "markdown",
      "metadata": {
        "id": "N2qPR_bfq8iM"
      },
      "source": [
        "Rule : All the keyworded arguments should be after all the positinal arguments"
      ]
    },
    {
      "cell_type": "code",
      "execution_count": null,
      "metadata": {
        "colab": {
          "base_uri": "https://localhost:8080/"
        },
        "id": "UYDs8XyIq2xd",
        "outputId": "d17d2198-7715-4af4-9f7a-972541f7666f"
      },
      "outputs": [
        {
          "name": "stdout",
          "output_type": "stream",
          "text": [
            "a is 1\n",
            "b is 2\n",
            "c is 2\n",
            "d is 5\n"
          ]
        }
      ],
      "source": [
        "solve(1,2,d=5,c=2)"
      ]
    },
    {
      "cell_type": "code",
      "execution_count": null,
      "metadata": {
        "colab": {
          "base_uri": "https://localhost:8080/"
        },
        "id": "2XpkZphrrPTr",
        "outputId": "6c318c29-b948-4349-9eae-8879d63647c2"
      },
      "outputs": [
        {
          "name": "stdout",
          "output_type": "stream",
          "text": [
            "a is 1\n",
            "b is 2\n",
            "c is 5\n",
            "d is 2\n"
          ]
        }
      ],
      "source": [
        "solve(1,2,5,d=2)"
      ]
    },
    {
      "cell_type": "code",
      "execution_count": null,
      "metadata": {
        "colab": {
          "base_uri": "https://localhost:8080/",
          "height": 175
        },
        "id": "aL6gE0PLre1e",
        "outputId": "47af8b20-f4b1-47eb-c852-3b62a68bf0ae"
      },
      "outputs": [
        {
          "ename": "TypeError",
          "evalue": "solve() got multiple values for argument 'a'",
          "output_type": "error",
          "traceback": [
            "\u001b[0;31m---------------------------------------------------------------------------\u001b[0m",
            "\u001b[0;31mTypeError\u001b[0m                                 Traceback (most recent call last)",
            "\u001b[0;32m<ipython-input-29-8a11700fcc77>\u001b[0m in \u001b[0;36m<cell line: 1>\u001b[0;34m()\u001b[0m\n\u001b[0;32m----> 1\u001b[0;31m \u001b[0msolve\u001b[0m\u001b[0;34m(\u001b[0m\u001b[0;36m1\u001b[0m\u001b[0;34m,\u001b[0m\u001b[0;36m2\u001b[0m\u001b[0;34m,\u001b[0m\u001b[0ma\u001b[0m\u001b[0;34m=\u001b[0m\u001b[0;36m5\u001b[0m\u001b[0;34m,\u001b[0m\u001b[0md\u001b[0m\u001b[0;34m=\u001b[0m\u001b[0;36m2\u001b[0m\u001b[0;34m)\u001b[0m \u001b[0;31m#Rule is followed bu logicalaly not correct\u001b[0m\u001b[0;34m\u001b[0m\u001b[0;34m\u001b[0m\u001b[0m\n\u001b[0m",
            "\u001b[0;31mTypeError\u001b[0m: solve() got multiple values for argument 'a'"
          ]
        }
      ],
      "source": [
        "solve(1,2,a=5,d=2) #Rule is followed but logicalaly not correct"
      ]
    },
    {
      "cell_type": "code",
      "execution_count": null,
      "metadata": {
        "colab": {
          "base_uri": "https://localhost:8080/",
          "height": 140
        },
        "id": "Kd9RCDWyrsxy",
        "outputId": "49e93b03-cba4-4dde-a0f2-757e23712a14"
      },
      "outputs": [
        {
          "ename": "SyntaxError",
          "evalue": "positional argument follows keyword argument (<ipython-input-31-e44a4a5677b9>, line 1)",
          "output_type": "error",
          "traceback": [
            "\u001b[0;36m  File \u001b[0;32m\"<ipython-input-31-e44a4a5677b9>\"\u001b[0;36m, line \u001b[0;32m1\u001b[0m\n\u001b[0;31m    solve(a = 4,b = 4, 7, 9) #Rule is not followed\u001b[0m\n\u001b[0m                           ^\u001b[0m\n\u001b[0;31mSyntaxError\u001b[0m\u001b[0;31m:\u001b[0m positional argument follows keyword argument\n"
          ]
        }
      ],
      "source": [
        "solve(a = 4,b = 4, 7, 9) #Rule is not followed"
      ]
    },
    {
      "cell_type": "markdown",
      "metadata": {
        "id": "nKUGnbEcsdIA"
      },
      "source": [
        "**Default Arguments**\n",
        "\n",
        "Default setting for function . its allowed to overwrite"
      ]
    },
    {
      "cell_type": "code",
      "execution_count": null,
      "metadata": {
        "id": "iISZI4sMsHE8"
      },
      "outputs": [],
      "source": [
        "def new_solve(a,b,c):\n",
        "  print(\"a is\", a)\n",
        "  print(\"b is\", b)\n",
        "  print(\"c is\", c)"
      ]
    },
    {
      "cell_type": "code",
      "execution_count": null,
      "metadata": {
        "colab": {
          "base_uri": "https://localhost:8080/"
        },
        "id": "da3XVNZassYt",
        "outputId": "b23b57a9-f038-4435-f689-ed8de5f8bf31"
      },
      "outputs": [
        {
          "name": "stdout",
          "output_type": "stream",
          "text": [
            "a is 1\n",
            "b is 4\n",
            "c is 7\n"
          ]
        }
      ],
      "source": [
        "new_solve(1,4,7)"
      ]
    },
    {
      "cell_type": "code",
      "execution_count": null,
      "metadata": {
        "id": "y-uWKuI0sxhA"
      },
      "outputs": [],
      "source": [
        "def new_solve(a,b,c = 4): #C is a defaulted argument, if nothing is passed c takes 4\n",
        "  print(\"a is\", a)\n",
        "  print(\"b is\", b)\n",
        "  print(\"c is\", c)"
      ]
    },
    {
      "cell_type": "code",
      "execution_count": null,
      "metadata": {
        "colab": {
          "base_uri": "https://localhost:8080/"
        },
        "id": "JLU4uiShtC4b",
        "outputId": "00893e68-2f3a-405e-95ce-00a87eda6cce"
      },
      "outputs": [
        {
          "name": "stdout",
          "output_type": "stream",
          "text": [
            "a is 1\n",
            "b is 4\n",
            "c is 4\n"
          ]
        }
      ],
      "source": [
        "new_solve(1,4)"
      ]
    },
    {
      "cell_type": "code",
      "execution_count": null,
      "metadata": {
        "colab": {
          "base_uri": "https://localhost:8080/"
        },
        "id": "LfgP-KiCtF8-",
        "outputId": "f645382a-e5f1-4b77-93e9-04f8a74bd338"
      },
      "outputs": [
        {
          "name": "stdout",
          "output_type": "stream",
          "text": [
            "a is 1\n",
            "b is 4\n",
            "c is 5\n"
          ]
        }
      ],
      "source": [
        "new_solve(1,4,5)"
      ]
    },
    {
      "cell_type": "code",
      "execution_count": null,
      "metadata": {
        "colab": {
          "base_uri": "https://localhost:8080/",
          "height": 175
        },
        "id": "qSsKu_hLtRNH",
        "outputId": "9c23b71b-12da-46f0-97c0-5346da2f1261"
      },
      "outputs": [
        {
          "ename": "TypeError",
          "evalue": "new_solve() missing 1 required positional argument: 'b'",
          "output_type": "error",
          "traceback": [
            "\u001b[0;31m---------------------------------------------------------------------------\u001b[0m",
            "\u001b[0;31mTypeError\u001b[0m                                 Traceback (most recent call last)",
            "\u001b[0;32m<ipython-input-39-4178e243f0ab>\u001b[0m in \u001b[0;36m<cell line: 1>\u001b[0;34m()\u001b[0m\n\u001b[0;32m----> 1\u001b[0;31m \u001b[0mnew_solve\u001b[0m\u001b[0;34m(\u001b[0m\u001b[0;36m1\u001b[0m\u001b[0;34m)\u001b[0m\u001b[0;34m\u001b[0m\u001b[0;34m\u001b[0m\u001b[0m\n\u001b[0m",
            "\u001b[0;31mTypeError\u001b[0m: new_solve() missing 1 required positional argument: 'b'"
          ]
        }
      ],
      "source": [
        "new_solve(1)"
      ]
    },
    {
      "cell_type": "code",
      "execution_count": null,
      "metadata": {
        "colab": {
          "base_uri": "https://localhost:8080/",
          "height": 158
        },
        "id": "h0eGuv-etXE7",
        "outputId": "83861a45-f844-41ba-f0db-eed4266b78b9"
      },
      "outputs": [
        {
          "ename": "SyntaxError",
          "evalue": "non-default argument follows default argument (<ipython-input-40-71f96044f890>, line 1)",
          "output_type": "error",
          "traceback": [
            "\u001b[0;36m  File \u001b[0;32m\"<ipython-input-40-71f96044f890>\"\u001b[0;36m, line \u001b[0;32m1\u001b[0m\n\u001b[0;31m    def new_solve(a,b = 4,c): #b is a defaulted argument, if nothing is passed b takes 4\u001b[0m\n\u001b[0m                          ^\u001b[0m\n\u001b[0;31mSyntaxError\u001b[0m\u001b[0;31m:\u001b[0m non-default argument follows default argument\n"
          ]
        }
      ],
      "source": [
        "def new_solve(a,b = 4,c): #b is a defaulted argument, if nothing is passed b takes 4\n",
        "  print(\"a is\", a)\n",
        "  print(\"b is\", b)\n",
        "  print(\"c is\", c)"
      ]
    },
    {
      "cell_type": "markdown",
      "metadata": {
        "id": "jLwg83E9trC5"
      },
      "source": [
        "Rule: In the function definition, all the default arguments should be AFTER all the non-default arguments\n"
      ]
    },
    {
      "cell_type": "code",
      "execution_count": null,
      "metadata": {
        "id": "u_ik_deDt40w"
      },
      "outputs": [],
      "source": [
        "def new_solve(a,b = 4,c = 6): #b,c is a defaulted argument.\n",
        "  print(\"a is\", a)\n",
        "  print(\"b is\", b)\n",
        "  print(\"c is\", c)"
      ]
    },
    {
      "cell_type": "code",
      "execution_count": null,
      "metadata": {
        "colab": {
          "base_uri": "https://localhost:8080/"
        },
        "id": "S5G03OdeuGAO",
        "outputId": "88aff063-8552-4f55-cd8a-17ce14b65bb8"
      },
      "outputs": [
        {
          "name": "stdout",
          "output_type": "stream",
          "text": [
            "a is 7\n",
            "b is 8\n",
            "c is 6\n"
          ]
        }
      ],
      "source": [
        "new_solve(7,8)"
      ]
    },
    {
      "cell_type": "code",
      "execution_count": null,
      "metadata": {
        "colab": {
          "base_uri": "https://localhost:8080/"
        },
        "id": "LSRiKCAvuH5l",
        "outputId": "77ff343d-ce6d-4fa7-c9f6-aba7754e92b0"
      },
      "outputs": [
        {
          "name": "stdout",
          "output_type": "stream",
          "text": [
            "a is 7\n",
            "b is 8\n",
            "c is 9\n"
          ]
        }
      ],
      "source": [
        "new_solve(7,8,9)"
      ]
    },
    {
      "cell_type": "code",
      "execution_count": null,
      "metadata": {
        "colab": {
          "base_uri": "https://localhost:8080/"
        },
        "id": "cEu0Xv_0uKgW",
        "outputId": "f98ceeee-e1ad-4c9f-8155-a09819c7e601"
      },
      "outputs": [
        {
          "name": "stdout",
          "output_type": "stream",
          "text": [
            "a is 7\n",
            "b is 4\n",
            "c is 6\n"
          ]
        }
      ],
      "source": [
        "new_solve(7)"
      ]
    },
    {
      "cell_type": "code",
      "execution_count": null,
      "metadata": {
        "colab": {
          "base_uri": "https://localhost:8080/",
          "height": 175
        },
        "id": "OAsNJeHRuNP1",
        "outputId": "d1be0eda-1159-4cd7-b5c6-855f6bc49594"
      },
      "outputs": [
        {
          "ename": "TypeError",
          "evalue": "new_solve() missing 1 required positional argument: 'a'",
          "output_type": "error",
          "traceback": [
            "\u001b[0;31m---------------------------------------------------------------------------\u001b[0m",
            "\u001b[0;31mTypeError\u001b[0m                                 Traceback (most recent call last)",
            "\u001b[0;32m<ipython-input-45-f4648302900b>\u001b[0m in \u001b[0;36m<cell line: 1>\u001b[0;34m()\u001b[0m\n\u001b[0;32m----> 1\u001b[0;31m \u001b[0mnew_solve\u001b[0m\u001b[0;34m(\u001b[0m\u001b[0;34m)\u001b[0m\u001b[0;34m\u001b[0m\u001b[0;34m\u001b[0m\u001b[0m\n\u001b[0m",
            "\u001b[0;31mTypeError\u001b[0m: new_solve() missing 1 required positional argument: 'a'"
          ]
        }
      ],
      "source": [
        "new_solve()"
      ]
    },
    {
      "cell_type": "code",
      "execution_count": null,
      "metadata": {
        "colab": {
          "base_uri": "https://localhost:8080/"
        },
        "id": "Dh2yKPTcuS3H",
        "outputId": "32d9a329-0715-414f-f665-c7391633099c"
      },
      "outputs": [
        {
          "name": "stdout",
          "output_type": "stream",
          "text": [
            "a is 7\n",
            "b is 4\n",
            "c is 8\n"
          ]
        }
      ],
      "source": [
        "new_solve(7,c=8)"
      ]
    },
    {
      "cell_type": "code",
      "execution_count": null,
      "metadata": {
        "colab": {
          "base_uri": "https://localhost:8080/"
        },
        "id": "LV7nwNpbuh3X",
        "outputId": "6201dd71-0533-44fb-d945-8287555f947a"
      },
      "outputs": [
        {
          "name": "stdout",
          "output_type": "stream",
          "text": [
            "a is 7\n",
            "b is 8\n",
            "c is 6\n"
          ]
        }
      ],
      "source": [
        "new_solve(7,b=8)"
      ]
    },
    {
      "cell_type": "markdown",
      "metadata": {
        "id": "xXY65MItwEfX"
      },
      "source": [
        "**Global and Local scope of variable**"
      ]
    },
    {
      "cell_type": "code",
      "execution_count": null,
      "metadata": {
        "colab": {
          "base_uri": "https://localhost:8080/",
          "height": 245
        },
        "id": "M7TgE8J_ujoH",
        "outputId": "10ff5a5f-dbce-405b-85ff-93dbc61e50bf"
      },
      "outputs": [
        {
          "name": "stdout",
          "output_type": "stream",
          "text": [
            "100\n"
          ]
        },
        {
          "ename": "NameError",
          "evalue": "name 'number' is not defined",
          "output_type": "error",
          "traceback": [
            "\u001b[0;31m---------------------------------------------------------------------------\u001b[0m",
            "\u001b[0;31mNameError\u001b[0m                                 Traceback (most recent call last)",
            "\u001b[0;32m<ipython-input-48-22aaf773623b>\u001b[0m in \u001b[0;36m<cell line: 7>\u001b[0;34m()\u001b[0m\n\u001b[1;32m      5\u001b[0m \u001b[0;34m\u001b[0m\u001b[0m\n\u001b[1;32m      6\u001b[0m \u001b[0mcalculator\u001b[0m\u001b[0;34m(\u001b[0m\u001b[0ma\u001b[0m\u001b[0;34m)\u001b[0m\u001b[0;34m\u001b[0m\u001b[0;34m\u001b[0m\u001b[0m\n\u001b[0;32m----> 7\u001b[0;31m \u001b[0mprint\u001b[0m\u001b[0;34m(\u001b[0m\u001b[0mnumber\u001b[0m\u001b[0;34m)\u001b[0m\u001b[0;34m\u001b[0m\u001b[0;34m\u001b[0m\u001b[0m\n\u001b[0m\u001b[1;32m      8\u001b[0m \u001b[0mprint\u001b[0m\u001b[0;34m(\u001b[0m\u001b[0ma\u001b[0m\u001b[0;34m)\u001b[0m\u001b[0;34m\u001b[0m\u001b[0;34m\u001b[0m\u001b[0m\n",
            "\u001b[0;31mNameError\u001b[0m: name 'number' is not defined"
          ]
        }
      ],
      "source": [
        "#Quiz\n",
        "a = 10\n",
        "def calculator(number):\n",
        "    print(number * 10)\n",
        "\n",
        "calculator(a)\n",
        "print(number)\n",
        "print(a)"
      ]
    },
    {
      "cell_type": "markdown",
      "metadata": {
        "id": "bH2uiWpZxtCq"
      },
      "source": [
        "Local variables: within the method/function\n",
        "\n",
        "Global variables: outside the method/function\n",
        "\n",
        "We cannot access local variables outside the function\n"
      ]
    },
    {
      "cell_type": "code",
      "execution_count": null,
      "metadata": {
        "colab": {
          "base_uri": "https://localhost:8080/"
        },
        "id": "_6JvgM2Fwwmu",
        "outputId": "619cde38-2f51-451c-ed47-4bcaef9d6839"
      },
      "outputs": [
        {
          "name": "stdout",
          "output_type": "stream",
          "text": [
            "100\n",
            "10\n"
          ]
        }
      ],
      "source": [
        "#Quiz\n",
        "a = 10 #Global variable\n",
        "def calculator(number):\n",
        "    print(number * 10)\n",
        "\n",
        "calculator(a)\n",
        "print(a)"
      ]
    },
    {
      "cell_type": "code",
      "execution_count": null,
      "metadata": {
        "colab": {
          "base_uri": "https://localhost:8080/"
        },
        "id": "oUqPGqYzwyeF",
        "outputId": "25f67725-39bc-47cf-94d3-9bf4ae58534f"
      },
      "outputs": [
        {
          "name": "stdout",
          "output_type": "stream",
          "text": [
            "5\n",
            "77\n"
          ]
        }
      ],
      "source": [
        "#Quiz\n",
        "def solve(n):\n",
        "  aa = 5 #local\n",
        "  print(aa)\n",
        "  print(n)\n",
        "\n",
        "solve(77)"
      ]
    },
    {
      "cell_type": "code",
      "execution_count": null,
      "metadata": {
        "colab": {
          "base_uri": "https://localhost:8080/",
          "height": 175
        },
        "id": "Io5rSzPZySEW",
        "outputId": "6e5f50d8-73ff-47c2-8c6b-34841ae2546f"
      },
      "outputs": [
        {
          "ename": "NameError",
          "evalue": "name 'aa' is not defined",
          "output_type": "error",
          "traceback": [
            "\u001b[0;31m---------------------------------------------------------------------------\u001b[0m",
            "\u001b[0;31mNameError\u001b[0m                                 Traceback (most recent call last)",
            "\u001b[0;32m<ipython-input-51-54933412a1fe>\u001b[0m in \u001b[0;36m<cell line: 1>\u001b[0;34m()\u001b[0m\n\u001b[0;32m----> 1\u001b[0;31m \u001b[0mprint\u001b[0m\u001b[0;34m(\u001b[0m\u001b[0maa\u001b[0m\u001b[0;34m)\u001b[0m\u001b[0;34m\u001b[0m\u001b[0;34m\u001b[0m\u001b[0m\n\u001b[0m",
            "\u001b[0;31mNameError\u001b[0m: name 'aa' is not defined"
          ]
        }
      ],
      "source": [
        "print(aa) #access local variables outside the function"
      ]
    },
    {
      "cell_type": "code",
      "execution_count": null,
      "metadata": {
        "colab": {
          "base_uri": "https://localhost:8080/"
        },
        "id": "h36sPOtNyYwz",
        "outputId": "f7420728-d0d1-435b-fb2e-f95acb145253"
      },
      "outputs": [
        {
          "name": "stdout",
          "output_type": "stream",
          "text": [
            "5\n",
            "77\n"
          ]
        }
      ],
      "source": [
        "#Quiz\n",
        "a = 10 #global\n",
        "def solve(n):\n",
        "  a = 5 #local\n",
        "  print(a)\n",
        "  print(n)\n",
        "\n",
        "solve(77)"
      ]
    },
    {
      "cell_type": "code",
      "execution_count": 66,
      "metadata": {
        "colab": {
          "base_uri": "https://localhost:8080/"
        },
        "id": "xV5FBhnqyp7L",
        "outputId": "c74b9bab-2af0-443f-d05e-417575c92873"
      },
      "outputs": [
        {
          "output_type": "stream",
          "name": "stdout",
          "text": [
            "5\n"
          ]
        }
      ],
      "source": [
        "print(a)"
      ]
    },
    {
      "cell_type": "code",
      "source": [
        "a = 10 #global\n",
        "\n",
        "def solve(n):\n",
        "  global a #access the global a\n",
        "  a = 5\n",
        "  print(a)\n",
        "  print(n)\n",
        "\n",
        "solve(7)"
      ],
      "metadata": {
        "colab": {
          "base_uri": "https://localhost:8080/"
        },
        "id": "VSkISzp67KFf",
        "outputId": "4caee384-dd45-4003-86a8-1fca85fbd323"
      },
      "execution_count": 67,
      "outputs": [
        {
          "output_type": "stream",
          "name": "stdout",
          "text": [
            "5\n",
            "7\n"
          ]
        }
      ]
    },
    {
      "cell_type": "code",
      "source": [
        "print(a)"
      ],
      "metadata": {
        "colab": {
          "base_uri": "https://localhost:8080/"
        },
        "id": "srNkQTIj7M9m",
        "outputId": "16c6643f-cdfc-4ca6-e80f-3a03706d8b7f"
      },
      "execution_count": 68,
      "outputs": [
        {
          "output_type": "stream",
          "name": "stdout",
          "text": [
            "5\n"
          ]
        }
      ]
    },
    {
      "cell_type": "code",
      "source": [
        "'''\n",
        "Q1\n",
        "Create a date printing function\n",
        "Should take in 4 arguments\n",
        "day, month, year, style\n",
        "\n",
        "styling logic:\n",
        "\n",
        "style = 0: print in this format: d / m / y\n",
        "style = 1: print in this format: m / d / y\n",
        "\n",
        "style anything else: print \"invalid style\"\n",
        "\n",
        "IMP: default style is 0\n",
        "\n",
        "eg: print_date(d, m, y, s):\n",
        "\n",
        "21, 7, 2023, 0\n",
        "op: 21 / 7 / 2023\n",
        "'''"
      ],
      "metadata": {
        "colab": {
          "base_uri": "https://localhost:8080/",
          "height": 70
        },
        "id": "aOzhlIkl7QBG",
        "outputId": "7c25c068-1d2d-42e3-ed64-ffade4059cd2"
      },
      "execution_count": 69,
      "outputs": [
        {
          "output_type": "execute_result",
          "data": {
            "text/plain": [
              "'\\nQ1\\nCreate a date printing function\\nShould take in 4 arguments\\nday, month, year, style\\n\\nstyling logic:\\n\\nstyle = 0: print in this format: d / m / y\\nstyle = 1: print in this format: m / d / y\\n\\nstyle anything else: print \"invalid style\"\\n\\nIMP: default style is 0\\n\\neg: print_date(d, m, y, s):\\n\\n21, 7, 2023, 0\\nop: 21 / 7 / 2023\\n'"
            ],
            "application/vnd.google.colaboratory.intrinsic+json": {
              "type": "string"
            }
          },
          "metadata": {},
          "execution_count": 69
        }
      ]
    },
    {
      "cell_type": "code",
      "source": [
        "def print_date(d, m, y, s):\n",
        "  if s == 0:\n",
        "    print(d, \"/\", m, \"/\", y)\n",
        "  elif s == 1:\n",
        "    print(m, \"/\", d, \"/\", y)\n",
        "  else:\n",
        "    print(\"invalid style\")"
      ],
      "metadata": {
        "id": "P2tDw4bS7T25"
      },
      "execution_count": 70,
      "outputs": []
    },
    {
      "cell_type": "code",
      "source": [
        "print_date(21, 7, 2023, 0) #style 0\n",
        "print_date(21, 7, 2023, 1) #style 1\n",
        "print_date(21, 7, 2023, 5) #Invalid style"
      ],
      "metadata": {
        "colab": {
          "base_uri": "https://localhost:8080/"
        },
        "id": "4ZQeMstZ7V3B",
        "outputId": "5d6bd63b-ee9c-4882-f67d-828463dc76a0"
      },
      "execution_count": 72,
      "outputs": [
        {
          "output_type": "stream",
          "name": "stdout",
          "text": [
            "21 / 7 / 2023\n",
            "7 / 21 / 2023\n",
            "invalid style\n"
          ]
        }
      ]
    },
    {
      "cell_type": "code",
      "source": [
        "print_date(21, 7, 2023)"
      ],
      "metadata": {
        "colab": {
          "base_uri": "https://localhost:8080/",
          "height": 175
        },
        "id": "LBmZhfhf7loU",
        "outputId": "7575f482-543e-44e9-95c6-0faa9a09a031"
      },
      "execution_count": 73,
      "outputs": [
        {
          "output_type": "error",
          "ename": "TypeError",
          "evalue": "print_date() missing 1 required positional argument: 's'",
          "traceback": [
            "\u001b[0;31m---------------------------------------------------------------------------\u001b[0m",
            "\u001b[0;31mTypeError\u001b[0m                                 Traceback (most recent call last)",
            "\u001b[0;32m<ipython-input-73-5d245e0c44fe>\u001b[0m in \u001b[0;36m<cell line: 1>\u001b[0;34m()\u001b[0m\n\u001b[0;32m----> 1\u001b[0;31m \u001b[0mprint_date\u001b[0m\u001b[0;34m(\u001b[0m\u001b[0;36m21\u001b[0m\u001b[0;34m,\u001b[0m \u001b[0;36m7\u001b[0m\u001b[0;34m,\u001b[0m \u001b[0;36m2023\u001b[0m\u001b[0;34m)\u001b[0m\u001b[0;34m\u001b[0m\u001b[0;34m\u001b[0m\u001b[0m\n\u001b[0m",
            "\u001b[0;31mTypeError\u001b[0m: print_date() missing 1 required positional argument: 's'"
          ]
        }
      ]
    },
    {
      "cell_type": "code",
      "source": [
        "def print_date(d, m, y, s = 0): #default style is 0\n",
        "  if s == 0:\n",
        "    print(d, \"/\", m, \"/\", y)\n",
        "  elif s == 1:\n",
        "    print(m, \"/\", d, \"/\", y)\n",
        "  else:\n",
        "    print(\"invalid style\")"
      ],
      "metadata": {
        "id": "99Lvf-Cr76OP"
      },
      "execution_count": 74,
      "outputs": []
    },
    {
      "cell_type": "code",
      "source": [
        "print_date(21, 7, 2023)"
      ],
      "metadata": {
        "colab": {
          "base_uri": "https://localhost:8080/"
        },
        "id": "xJgC-fLH8AJa",
        "outputId": "3ef6c51a-d76d-4789-9a87-b6e935a504d7"
      },
      "execution_count": 75,
      "outputs": [
        {
          "output_type": "stream",
          "name": "stdout",
          "text": [
            "21 / 7 / 2023\n"
          ]
        }
      ]
    },
    {
      "cell_type": "code",
      "source": [
        "print_date(21, 7, 2023, 1)"
      ],
      "metadata": {
        "colab": {
          "base_uri": "https://localhost:8080/"
        },
        "id": "mG2YC7Lj8Czm",
        "outputId": "09860604-c9ed-4742-c82c-cb04aab7df21"
      },
      "execution_count": 76,
      "outputs": [
        {
          "output_type": "stream",
          "name": "stdout",
          "text": [
            "7 / 21 / 2023\n"
          ]
        }
      ]
    },
    {
      "cell_type": "code",
      "source": [
        "print_date(7, 21, 2023, 0) #(d,m,y,s) is it correct? No Because of default argument we lost the control"
      ],
      "metadata": {
        "colab": {
          "base_uri": "https://localhost:8080/"
        },
        "id": "J40OkqLg8FjZ",
        "outputId": "8e214911-79e0-407a-c85d-c4e1b4c60fb7"
      },
      "execution_count": 78,
      "outputs": [
        {
          "output_type": "stream",
          "name": "stdout",
          "text": [
            "7 / 21 / 2023\n"
          ]
        }
      ]
    },
    {
      "cell_type": "code",
      "source": [
        "print_date(21, 7, 2023, 5)"
      ],
      "metadata": {
        "colab": {
          "base_uri": "https://localhost:8080/"
        },
        "id": "v8F5ASzR8kPi",
        "outputId": "d248fc55-581d-4f0e-f497-7b451d34e929"
      },
      "execution_count": 79,
      "outputs": [
        {
          "output_type": "stream",
          "name": "stdout",
          "text": [
            "invalid style\n"
          ]
        }
      ]
    },
    {
      "cell_type": "markdown",
      "source": [
        "**Lambda function : its part of functinal programming**"
      ],
      "metadata": {
        "id": "T6LZ6G6Z81JO"
      }
    },
    {
      "cell_type": "markdown",
      "source": [
        "Understand the ternery operator"
      ],
      "metadata": {
        "id": "1D_YrQdk9DjC"
      }
    },
    {
      "cell_type": "code",
      "source": [
        "if 4 > 5 :\n",
        "  a = 50\n",
        "else:\n",
        "  a = 40\n",
        "\n",
        "print(a)"
      ],
      "metadata": {
        "colab": {
          "base_uri": "https://localhost:8080/"
        },
        "id": "gweLyw7s8IFQ",
        "outputId": "c95445e1-5ae0-4484-c1a1-0dc603ba8017"
      },
      "execution_count": 81,
      "outputs": [
        {
          "output_type": "stream",
          "name": "stdout",
          "text": [
            "40\n"
          ]
        }
      ]
    },
    {
      "cell_type": "markdown",
      "source": [
        "With one line if we want to write the if-else condition we can use the ternary operator"
      ],
      "metadata": {
        "id": "3RMHetnL-W0Y"
      }
    },
    {
      "cell_type": "markdown",
      "source": [
        "**Syntax:\\\n",
        "[on_true] if [expression] else [on_false]**"
      ],
      "metadata": {
        "id": "BgUKJBXX9ru6"
      }
    },
    {
      "cell_type": "code",
      "source": [
        "a = 50 if 4>5 else 40\n",
        "print(a)"
      ],
      "metadata": {
        "colab": {
          "base_uri": "https://localhost:8080/"
        },
        "id": "XIOnUke29wNT",
        "outputId": "b13a91bb-11a9-4224-822c-a8b12089b871"
      },
      "execution_count": 82,
      "outputs": [
        {
          "output_type": "stream",
          "name": "stdout",
          "text": [
            "40\n"
          ]
        }
      ]
    },
    {
      "cell_type": "markdown",
      "source": [
        "Lambda function"
      ],
      "metadata": {
        "id": "-XIOv-Vc-n4r"
      }
    },
    {
      "cell_type": "code",
      "source": [
        "#write a function that takes a value and returns twice of it\n",
        "\n",
        "def solve(a):\n",
        "  return 2*a\n",
        "\n",
        "solve(5)"
      ],
      "metadata": {
        "colab": {
          "base_uri": "https://localhost:8080/"
        },
        "id": "8ToQ4Rlh-MmU",
        "outputId": "08d16c1d-9270-4d50-f192-f2578752a1a1"
      },
      "execution_count": 84,
      "outputs": [
        {
          "output_type": "execute_result",
          "data": {
            "text/plain": [
              "10"
            ]
          },
          "metadata": {},
          "execution_count": 84
        }
      ]
    },
    {
      "cell_type": "markdown",
      "source": [
        "Write it one line"
      ],
      "metadata": {
        "id": "WPUg-ymR_Fx3"
      }
    },
    {
      "cell_type": "code",
      "source": [
        "solve1 = lambda n:2*n #solve is the function name\n",
        "#lambda is keyword"
      ],
      "metadata": {
        "id": "jty8itWp-9C7"
      },
      "execution_count": 86,
      "outputs": []
    },
    {
      "cell_type": "code",
      "source": [
        "solve1(5)"
      ],
      "metadata": {
        "colab": {
          "base_uri": "https://localhost:8080/"
        },
        "id": "E_N8KzrB_eEm",
        "outputId": "e0fc56b6-cda9-42cb-cabc-d8a4c0fe05f2"
      },
      "execution_count": 87,
      "outputs": [
        {
          "output_type": "execute_result",
          "data": {
            "text/plain": [
              "10"
            ]
          },
          "metadata": {},
          "execution_count": 87
        }
      ]
    },
    {
      "cell_type": "markdown",
      "source": [
        "lambda func is also called anonymous function\n",
        "\n",
        "without function name also we can get the answer"
      ],
      "metadata": {
        "id": "7ocX_6h0_xLo"
      }
    },
    {
      "cell_type": "code",
      "source": [
        "(lambda n : 2*n) (5) #anonymous function"
      ],
      "metadata": {
        "colab": {
          "base_uri": "https://localhost:8080/"
        },
        "id": "WZWpwTR4__Oh",
        "outputId": "54e7add8-290c-4198-dc68-143aedb51e1a"
      },
      "execution_count": 91,
      "outputs": [
        {
          "output_type": "execute_result",
          "data": {
            "text/plain": [
              "10"
            ]
          },
          "metadata": {},
          "execution_count": 91
        }
      ]
    },
    {
      "cell_type": "markdown",
      "source": [
        "2 argument passing"
      ],
      "metadata": {
        "id": "XG07XVGLAr7G"
      }
    },
    {
      "cell_type": "code",
      "source": [
        "sum = lambda a,b : a+b\n",
        "sum(5,6)"
      ],
      "metadata": {
        "colab": {
          "base_uri": "https://localhost:8080/"
        },
        "id": "dkNlqOfaAYM2",
        "outputId": "1e513e73-9eed-4364-cb20-cd6c94f20ce8"
      },
      "execution_count": 92,
      "outputs": [
        {
          "output_type": "execute_result",
          "data": {
            "text/plain": [
              "11"
            ]
          },
          "metadata": {},
          "execution_count": 92
        }
      ]
    },
    {
      "cell_type": "markdown",
      "source": [
        "Ternery operator + lambda function"
      ],
      "metadata": {
        "id": "iKK8-CCzA4FE"
      }
    },
    {
      "cell_type": "code",
      "source": [
        "#Write a function that returns 1 if the number is even else return 0\n",
        "\n",
        "def solve(a):\n",
        "  if a%2==0:\n",
        "    return 1\n",
        "  else:\n",
        "    return 0\n",
        "\n",
        "solve(10)"
      ],
      "metadata": {
        "colab": {
          "base_uri": "https://localhost:8080/"
        },
        "id": "7IcCP8wMAyxK",
        "outputId": "31aa6b3a-5d2a-4151-ab67-9250bad74d35"
      },
      "execution_count": 94,
      "outputs": [
        {
          "output_type": "execute_result",
          "data": {
            "text/plain": [
              "1"
            ]
          },
          "metadata": {},
          "execution_count": 94
        }
      ]
    },
    {
      "cell_type": "code",
      "source": [
        "#ternary operator\n",
        "def solve(a):\n",
        "  ans = 1 if a%2==0 else 0\n",
        "  return ans\n",
        "\n",
        "solve(10)"
      ],
      "metadata": {
        "colab": {
          "base_uri": "https://localhost:8080/"
        },
        "id": "fyW-Xu_0BSP0",
        "outputId": "97f3bc32-e0a0-441e-821b-16816de4a945"
      },
      "execution_count": 95,
      "outputs": [
        {
          "output_type": "execute_result",
          "data": {
            "text/plain": [
              "1"
            ]
          },
          "metadata": {},
          "execution_count": 95
        }
      ]
    },
    {
      "cell_type": "code",
      "source": [
        "#lambda function + ternary\n",
        "solve2 = lambda a : 1 if a%2==0 else 0\n",
        "solve2(10)"
      ],
      "metadata": {
        "colab": {
          "base_uri": "https://localhost:8080/"
        },
        "id": "omW06pYbBqjt",
        "outputId": "22870141-3fe0-417e-b220-62fc25a55212"
      },
      "execution_count": 96,
      "outputs": [
        {
          "output_type": "execute_result",
          "data": {
            "text/plain": [
              "1"
            ]
          },
          "metadata": {},
          "execution_count": 96
        }
      ]
    },
    {
      "cell_type": "code",
      "source": [
        "solve2(5)"
      ],
      "metadata": {
        "colab": {
          "base_uri": "https://localhost:8080/"
        },
        "id": "U5mCc9bGCA85",
        "outputId": "111e17b8-6b88-41c1-8b0c-25be65a93b9b"
      },
      "execution_count": 97,
      "outputs": [
        {
          "output_type": "execute_result",
          "data": {
            "text/plain": [
              "0"
            ]
          },
          "metadata": {},
          "execution_count": 97
        }
      ]
    },
    {
      "cell_type": "code",
      "source": [
        "#Quiz\n",
        "\n",
        "def function(var):\n",
        "  print(var)\n",
        "\n",
        "function(10)\n",
        "\n",
        "var = 4\n",
        "function(var)"
      ],
      "metadata": {
        "colab": {
          "base_uri": "https://localhost:8080/"
        },
        "id": "5lqLU_OPCB8D",
        "outputId": "c9e7446f-3019-410c-ba24-6c3d0447183a"
      },
      "execution_count": 98,
      "outputs": [
        {
          "output_type": "stream",
          "name": "stdout",
          "text": [
            "10\n",
            "4\n"
          ]
        }
      ]
    }
  ],
  "metadata": {
    "colab": {
      "provenance": [],
      "authorship_tag": "ABX9TyOjXXf1pOx+9TfdBINiUv1w",
      "include_colab_link": true
    },
    "kernelspec": {
      "display_name": "Python 3",
      "name": "python3"
    },
    "language_info": {
      "name": "python"
    }
  },
  "nbformat": 4,
  "nbformat_minor": 0
}